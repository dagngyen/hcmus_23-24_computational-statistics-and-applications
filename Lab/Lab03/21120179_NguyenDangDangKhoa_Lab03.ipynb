{
 "cells": [
  {
   "cell_type": "markdown",
   "metadata": {},
   "source": [
    "<style>\n",
    "    h1 {\n",
    "        padding: 8px 8px;\n",
    "        background-image: linear-gradient(135deg, #c9f3ff, rgb(131, 218, 255));\n",
    "        font-weight: 700;\n",
    "        position: static;\n",
    "        text-align: center;\n",
    "        color: #006098;\n",
    "        font-size: 36px;\n",
    "    }\n",
    "    h2 {\n",
    "        font-weight: 700;\n",
    "        text-align: center;\n",
    "        font-style: italic;\n",
    "        font-size: 24px;\n",
    "    }\n",
    "</style>\n",
    "\n",
    "<div><h1>THỐNG KÊ MÁY TÍNH VÀ ỨNG DỤNG</h1></div>\n",
    "<div><h2>Bài tập 03</h2></div>"
   ]
  },
  {
   "cell_type": "markdown",
   "metadata": {},
   "source": [
    "**THÔNG TIN CÁ NHÂN**\n",
    "\n",
    "- _Họ tên sinh viên:_ **Nguyễn Đặng Đăng Khoa**\n",
    "\n",
    "- _Mã số sinh viên:_ **21120179**"
   ]
  },
  {
   "cell_type": "markdown",
   "metadata": {},
   "source": [
    "**KHAI BÁO THƯ VIỆN**"
   ]
  },
  {
   "cell_type": "code",
   "execution_count": 1,
   "metadata": {},
   "outputs": [],
   "source": [
    "import numpy as np\n",
    "import pandas as pd\n",
    "from numpy import random as nrd\n",
    "import math\n",
    "import time\n",
    "from typing import Literal\n",
    "\n",
    "import collections as clt\n",
    "import statistics as sts\n",
    "import scipy.stats as ssts\n",
    "\n",
    "import matplotlib.pyplot as plt"
   ]
  },
  {
   "cell_type": "code",
   "execution_count": 2,
   "metadata": {},
   "outputs": [],
   "source": [
    "import warnings\n",
    "warnings.filterwarnings('ignore')"
   ]
  },
  {
   "cell_type": "markdown",
   "metadata": {},
   "source": [
    "# **CÂU 1**\n",
    "Dùng phương pháp **Monte Carlo**, ước lượng các giá trị sau với sai số chuẩn không quá $0.01$."
   ]
  },
  {
   "cell_type": "markdown",
   "metadata": {},
   "source": [
    "## **$\\displaystyle I=\\int_{-2}^{2}{e^{x+x^2}}{dx}$**"
   ]
  },
  {
   "cell_type": "markdown",
   "metadata": {},
   "source": [
    "Nếu ta tính tích phân thông thường bằng toán học, ta có được giá trị tích phân như sau:"
   ]
  },
  {
   "cell_type": "code",
   "execution_count": 161,
   "metadata": {},
   "outputs": [
    {
     "name": "stdout",
     "output_type": "stream",
     "text": [
      "Tích phân: 93.16348176810679\n"
     ]
    }
   ],
   "source": [
    "f_1_a = lambda x: np.exp(x + x**2)\n",
    "\n",
    "def compute_integration(func=f_1_a, bin:int=100_000):\n",
    "    # Tạo mảng miền giá trị x\n",
    "    _x = np.linspace(-2, 2, bin)\n",
    "    \n",
    "    # Tính tích phân = giá trị trung bình * độ dài của khoảng [-2, 2], tức (= 4)\n",
    "    _vec_func = np.vectorize(func)    \n",
    "    _mean = np.mean(_vec_func(_x))\n",
    "    _integral = np.multiply(_mean, (2 - (-2)))\n",
    "    \n",
    "    return _integral\n",
    "\n",
    "# Số lượng bin\n",
    "num_ = 1000000\n",
    "\n",
    "# Tính tích phân\n",
    "integral = compute_integration(bin=num_)\n",
    "print(\"Tích phân:\", integral)"
   ]
  },
  {
   "cell_type": "markdown",
   "metadata": {},
   "source": [
    "Sử dụng phương pháp Monte Carlo để ước tích phân trên:\n",
    "\n",
    "Sinh $X_1, X_2, \\dots, X_n \\overset{\\text{i.i.d}}{\\sim} \\mathcal{U}(-2,2)$, ta ước lượng $I$ như sau:\n",
    "\n",
    "$$\\displaystyle I=\\int_{-2}^{2}{e^{x+x^2}}{dx}\\approx\\frac{2-(-2)}{n}\\sum_{i=1}^{n}{e^{x+x^2}}=\\frac{4}{n}\\sum_{i=1}^{n}{e^{x+x^2}}$$"
   ]
  },
  {
   "cell_type": "markdown",
   "metadata": {},
   "source": [
    "Hàm `estimate_monte_carlo_integration(num_samples, func)`:\n",
    "\n",
    "Đầu vào:\n",
    "- `num_samples`: Số lượng điểm mẫu ngẫu nhiên.\n",
    "- `func`: Hàm số để ước tích phân.\n",
    "\n",
    "Đầu ra:\n",
    "- Ước tích phân gần đúng của hàm `func` trên khoảng [-2, 2].\n",
    "\n",
    "Mã giả:\n",
    "\n",
    "1. **Sinh điểm x ngẫu nhiên:** Sử dụng hàm `nrd.uniform` để tạo `num_samples` điểm `x` ngẫu nhiên trong khoảng [-2, 2].\n",
    "\n",
    "2. **Tính giá trị trung bình của hàm số:**\n",
    "    - Tính giá trị của hàm `func` tại mỗi điểm `x` và lưu trữ kết quả trong mảng `_vec_func`.\n",
    "    - Tính giá trị trung bình của `_vec_func`.\n",
    "\n",
    "3. **Ước tích phân:** Nhân giá trị trung bình `_mean` với độ dài của khoảng tích phân."
   ]
  },
  {
   "cell_type": "code",
   "execution_count": 123,
   "metadata": {},
   "outputs": [],
   "source": [
    "f_1_a = lambda x: np.exp(x + x**2)\n",
    "\n",
    "def estimate_monte_carlo_integration(num_samples, func=f_1_a, return_std=False):\n",
    "    # Sinh điểm x ngẫu nhiên trong khoảng từ -2 đến 2\n",
    "    _x = nrd.uniform(-2, 2, num_samples)\n",
    "    \n",
    "    # Tính giá trị trung bình của hàm số tại các điểm ngẫu nhiên\n",
    "    _vec_func = np.vectorize(func)    \n",
    "    _mean = np.mean(_vec_func(_x))\n",
    "    \n",
    "    # Ước tích phân gần đúng = giá trị trung bình * độ dài của khoảng [-2, 2], tức (= 4)\n",
    "    _integral_approximation = np.multiply(_mean, 4)\n",
    "    \n",
    "    if return_std == False:\n",
    "        return _integral_approximation\n",
    "    return _integral_approximation , np.std(_vec_func(_x), ddof=1)"
   ]
  },
  {
   "cell_type": "code",
   "execution_count": 74,
   "metadata": {},
   "outputs": [
    {
     "data": {
      "text/plain": [
       "27.234731904783082"
      ]
     },
     "execution_count": 74,
     "metadata": {},
     "output_type": "execute_result"
    }
   ],
   "source": [
    "estimate_monte_carlo_integration(10)"
   ]
  },
  {
   "cell_type": "code",
   "execution_count": 32,
   "metadata": {},
   "outputs": [
    {
     "name": "stdout",
     "output_type": "stream",
     "text": [
      "Ước tính tích phân gần đúng: 93.10498041415177\n",
      "Sai số chuẩn: 0.008617490875629099\n"
     ]
    }
   ],
   "source": [
    "# Số lượng mẫu được lấy\n",
    "num_samples = 50000000\n",
    "\n",
    "# Tính phần tích phân gần đúng bằng phương pháp Monte Carlo\n",
    "approximation, std = estimate_monte_carlo_integration(num_samples, return_std=True)\n",
    "print(\"Ước tính tích phân gần đúng:\", approximation)\n",
    "print(\"Sai số chuẩn:\", std/np.sqrt(num_samples))"
   ]
  },
  {
   "cell_type": "markdown",
   "metadata": {},
   "source": [
    "Cỡ mẫu tối thiểu:"
   ]
  },
  {
   "cell_type": "code",
   "execution_count": 35,
   "metadata": {},
   "outputs": [
    {
     "data": {
      "text/plain": [
       "37130574"
      ]
     },
     "execution_count": 35,
     "metadata": {},
     "output_type": "execute_result"
    }
   ],
   "source": [
    "np.round(std**2/0.01**2, 0).astype(int)"
   ]
  },
  {
   "cell_type": "markdown",
   "metadata": {},
   "source": [
    "Khoảng gần $40,000,000$ mẫu để có ước tích phân $I$ có sai số chuẩn không vượt qua $0.01$"
   ]
  },
  {
   "cell_type": "markdown",
   "metadata": {},
   "source": [
    "## **$\\displaystyle J=\\int_{0}^{\\infty}{\\int_{0}^{x}{e^{-(x+y^2)}}{dy}}{dx}$**"
   ]
  },
  {
   "cell_type": "markdown",
   "metadata": {},
   "source": [
    "# **CÂU 2**\n",
    "Cho các $U_i(i \\geq 1)$ độc lập và có phân phối $\\mathcal{U}(0,1)$. Đặt:\n",
    "$$\\displaystyle N = \\max\\limits_{n}\\left\\{ \\prod_{i=1}^n{U_i \\geq e^{-3}} \\right\\}$$\n",
    "\n",
    "Dùng phương pháp **Monte Carlo**:"
   ]
  },
  {
   "cell_type": "markdown",
   "metadata": {},
   "source": [
    "`N_function(threshold, limits_N)`\n",
    "\n",
    "Đầu vào:\n",
    "    - `threshold`: Ngưỡng xác suất (mặc định: e^(-3))\n",
    "    - `limits_N`: Giới hạn trên của `n` (mặc định: 1000)\n",
    "\n",
    "Đầu ra:\n",
    "    - Giá trị `n` lớn nhất sao cho tích lũy tích suất nhỏ hơn hoặc bằng `threshold`\n",
    "\n",
    "Mã giả:\n",
    "\n",
    "1. **Khởi tạo:**\n",
    "    - Thiết lập `n_max` là 0.\n",
    "    - Tạo mảng `u` chứa `n` giá trị ngẫu nhiên phân bố đều trong [0, 1].\n",
    "\n",
    "2. **Lặp qua các giá trị `i` từ 1 đến `n`:**\n",
    "    - Tính tích lũy tích suất `prod_u` của các phần tử trong `u` từ vị trí 0 đến vị trí `i - 1`.\n",
    "    - So sánh `prod_u` với `threshold`:\n",
    "        - Nếu `prod_u` lớn hơn hoặc bằng `threshold`:\n",
    "            - Cập nhật `n_max` bằng `i`.\n",
    "        - Không thực hiện hành động nào khác.\n",
    "\n",
    "3. **Trả về kết quả:**\n",
    "    - Trả về giá trị `n_max`.\n"
   ]
  },
  {
   "cell_type": "code",
   "execution_count": 191,
   "metadata": {},
   "outputs": [],
   "source": [
    "def N_function(threshold:float=np.exp(-3), limits_N:int=1000):\n",
    "    n = np.random.randint(1, 101)  # Lấy n ngẫu nhiên từ 1 đến 100\n",
    "    u = np.random.uniform(0, 1, size=n)\n",
    "\n",
    "    # Tính N\n",
    "    n_max = 0\n",
    "    for i in range(1, n + 1):\n",
    "        if np.prod(u[:i]) >= threshold:\n",
    "            n_max = i\n",
    "    \n",
    "    return n_max"
   ]
  },
  {
   "cell_type": "markdown",
   "metadata": {},
   "source": [
    "Quan sát sự phân bổ lượng mẫu:"
   ]
  },
  {
   "cell_type": "code",
   "execution_count": 193,
   "metadata": {},
   "outputs": [],
   "source": [
    "N_range = np.array([1, 10, 100, 1000, 10000, 100000])\n",
    "result_N = np.array([])\n",
    "mean_N = np.array([])\n",
    "for N in N_range:\n",
    "    res_N = [N_function() for _ in range(N)]\n",
    "    result_N = np.append(result_N, res_N)\n",
    "    mean_N = np.append(mean_N, np.mean(res_N))\n",
    "    \n",
    "# Convert type int of N_range to string\n",
    "N_range_str = np.repeat([str(i) for i in N_range], N_range)"
   ]
  },
  {
   "cell_type": "code",
   "execution_count": 194,
   "metadata": {},
   "outputs": [
    {
     "data": {
      "image/png": "[encoded data removed]",
      "text/plain": [
       "<Figure size 1000x600 with 1 Axes>"
      ]
     },
     "metadata": {},
     "output_type": "display_data"
    }
   ],
   "source": [
    "plt.figure(figsize=(10, 6))\n",
    "plt.scatter(N_range_str, result_N, alpha=0.1, label=\"Distribution of N_function()\")\n",
    "plt.plot(list(sorted(set(N_range_str))), mean_N, color=\"orange\", linewidth=2, label=\"Mean of N_function()\")\n",
    "plt.xlabel(\"N\")\n",
    "plt.ylabel(\"N_function()\")\n",
    "plt.legend()\n",
    "plt.grid()"
   ]
  },
  {
   "cell_type": "markdown",
   "metadata": {},
   "source": [
    "## **Ước lượng $P(N=1)$**"
   ]
  },
  {
   "cell_type": "code",
   "execution_count": 192,
   "metadata": {},
   "outputs": [
    {
     "data": {
      "text/plain": [
       "0.1563"
      ]
     },
     "execution_count": 192,
     "metadata": {},
     "output_type": "execute_result"
    }
   ],
   "source": [
    "def estimate_probability_equal(N, num_samples, func=N_function, threshold:float=np.exp(-3)):\n",
    "    _samples = [True if func(threshold) == N else False for _ in range(num_samples)]\n",
    "    return np.mean(_samples)\n",
    "\n",
    "estimate_probability_equal(1, 100000)"
   ]
  },
  {
   "cell_type": "markdown",
   "metadata": {},
   "source": [
    "## **Ước lượng $P(N\\geq10)$**"
   ]
  },
  {
   "cell_type": "code",
   "execution_count": 196,
   "metadata": {},
   "outputs": [
    {
     "data": {
      "text/plain": [
       "0.00105"
      ]
     },
     "execution_count": 196,
     "metadata": {},
     "output_type": "execute_result"
    }
   ],
   "source": [
    "def estimate_probability_greater(N, num_samples, func=N_function, threshold:float=np.exp(-3)):\n",
    "    _samples = [True if func(threshold) >= N else False for _ in range(num_samples)]\n",
    "    return np.mean(_samples)\n",
    "\n",
    "estimate_probability_greater(10, 100000)"
   ]
  },
  {
   "cell_type": "markdown",
   "metadata": {},
   "source": [
    "## **Đưa ra khoảng tin cậy $95\\%$ cho $E(N)$**"
   ]
  },
  {
   "cell_type": "code",
   "execution_count": 201,
   "metadata": {},
   "outputs": [],
   "source": [
    "# Compute confidence interval\n",
    "def compute_confidence_interval(confidence_level:float=0.95, func=N_function, threshold:float=np.exp(-3), num_samples=100000):\n",
    "    _y = np.array([func(threshold) for _ in range(num_samples)])\n",
    "    _z_MC = np.mean(_y)\n",
    "    _alpha = 1 - confidence_level\n",
    "    _q_alpha = ssts.norm.ppf(1 - _alpha / 2)\n",
    "    _sigma = np.std(_y, ddof=1)\n",
    "    return _z_MC + _q_alpha * _sigma / np.sqrt(num_samples) * np.array([-1, 1])"
   ]
  },
  {
   "cell_type": "markdown",
   "metadata": {},
   "source": [
    "Khoảng tin cậy $95\\%$ trên $100000$:"
   ]
  },
  {
   "cell_type": "code",
   "execution_count": 202,
   "metadata": {},
   "outputs": [
    {
     "data": {
      "text/plain": [
       "array([2.95579773, 2.97708227])"
      ]
     },
     "execution_count": 202,
     "metadata": {},
     "output_type": "execute_result"
    }
   ],
   "source": [
    "compute_confidence_interval()"
   ]
  },
  {
   "cell_type": "markdown",
   "metadata": {},
   "source": [
    "# **CÂU 3**\n",
    "Cho biến ngẫu nhiên có phân phối chuẩn tắc $X \\sim \\mathcal{N}(0,1)$. Ước lượng $P(3 \\leq X \\leq 4)$ bằng các phương pháp (1) Monte Carlo “ngây thơ” dùng phân phối $X \\sim \\mathcal{N}(0,1)$ và phương pháp lấy mẫu quan trọng với các phân phối mới lần lượt là (2) $Y \\sim \\mathcal{N}(1,1)$, (3) $Y \\sim \\mathcal{N}(2,1)$, (4) $Y \\sim \\mathcal{N}(3.5,1)$ và (5) $Y \\sim \\text{Exp}(1)+3$."
   ]
  },
  {
   "cell_type": "markdown",
   "metadata": {},
   "source": [
    "## **Ước lượng sai số của các phương pháp khi dùng cỡ mẫu là $50000$.**"
   ]
  },
  {
   "cell_type": "code",
   "execution_count": 108,
   "metadata": {},
   "outputs": [],
   "source": [
    "N = 50_000\n",
    "\n",
    "f_3 = lambda x: True if (3 <= x) & (x <= 4) else False\n",
    "phi_3 = lambda x: 1.0/np.sqrt(2*np.pi) * np.exp(-x**2 / 2)\n",
    "\n",
    "vec_f_3 = np.vectorize(f_3)\n",
    "vec_phi_3 = np.vectorize(phi_3)"
   ]
  },
  {
   "cell_type": "markdown",
   "metadata": {},
   "source": [
    "### **_Phương pháp 1: Monte Carlo_**"
   ]
  },
  {
   "cell_type": "code",
   "execution_count": 122,
   "metadata": {},
   "outputs": [
    {
     "name": "stdout",
     "output_type": "stream",
     "text": [
      "Ước lượng: 0.00134\n",
      "Ước lượng sai số: 7.316368401395033e-07\n"
     ]
    }
   ],
   "source": [
    "X = nrd.normal(0, 1, N)\n",
    "\n",
    "y_3_1 = vec_f_3(X)\n",
    "\n",
    "print('Ước lượng:', np.mean(y_3_1))\n",
    "print('Ước lượng sai số:',  np.std(y_3_1, ddof=1)/N)"
   ]
  },
  {
   "cell_type": "markdown",
   "metadata": {},
   "source": [
    "### **_Phương pháp 2:_**"
   ]
  },
  {
   "cell_type": "code",
   "execution_count": 129,
   "metadata": {},
   "outputs": [
    {
     "name": "stdout",
     "output_type": "stream",
     "text": [
      "0.0013671283375173277 0.009307955667435431\n",
      "Ước lượng: 0.0013671283375173277\n",
      "Ước lượng sai số: 1.8615911334870862e-07\n"
     ]
    }
   ],
   "source": [
    "Y_3 = nrd.normal(1, 1, N)\n",
    "\n",
    "psi_3_2 = lambda x: 1.0/np.sqrt(2*np.pi) * np.exp(-(x-1)**2 / 2)\n",
    "\n",
    "vec_psi_3_2 = np.vectorize(psi_3_2)\n",
    "y_3_2 = vec_f_3(Y_3)*vec_phi_3(Y_3)/vec_psi_3_2(Y_3)\n",
    "\n",
    "print('Ước lượng:', np.mean(y_3_2))\n",
    "print('Ước lượng sai số:',  np.std(y_3_2, ddof=1)/N)"
   ]
  },
  {
   "cell_type": "markdown",
   "metadata": {},
   "source": [
    "### **_Phương pháp 3:_**"
   ]
  },
  {
   "cell_type": "code",
   "execution_count": 132,
   "metadata": {},
   "outputs": [
    {
     "name": "stdout",
     "output_type": "stream",
     "text": [
      "Ước lượng: 0.001336731665240259\n",
      "Ước lượng sai số: 7.511431006722962e-08\n"
     ]
    }
   ],
   "source": [
    "Y_3 = nrd.normal(2, 1, N)\n",
    "\n",
    "psi_3_3 = lambda x: 1.0/np.sqrt(2*np.pi) * np.exp(-(x-2)**2 / 2)\n",
    "\n",
    "vec_psi_3_3 = np.vectorize(psi_3_3)\n",
    "y_3_3 = vec_f_3(Y_3)*vec_phi_3(Y_3)/vec_psi_3_3(Y_3)\n",
    "\n",
    "print('Ước lượng:', np.mean(y_3_3))\n",
    "print('Ước lượng sai số:', np.std(y_3_3, ddof=1)/N)"
   ]
  },
  {
   "cell_type": "markdown",
   "metadata": {},
   "source": [
    "### **_Phương pháp 4:_**"
   ]
  },
  {
   "cell_type": "code",
   "execution_count": 133,
   "metadata": {},
   "outputs": [
    {
     "name": "stdout",
     "output_type": "stream",
     "text": [
      "Ước lượng: 0.0029931133348185994\n",
      "Ước lượng sai số: 9.327701026220038e-08\n"
     ]
    }
   ],
   "source": [
    "Y_3 = nrd.normal(3.5, 1, N)\n",
    "\n",
    "psi_3_4 = lambda x: 1.0/np.sqrt(2*np.pi) * np.exp(-(x-2)**2 / 2)\n",
    "\n",
    "vec_psi_3_4 = np.vectorize(psi_3_4)\n",
    "y_3_4 = vec_f_3(Y_3)*vec_phi_3(Y_3)/vec_psi_3_4(Y_3)\n",
    "\n",
    "print('Ước lượng:', np.mean(y_3_4))\n",
    "print('Ước lượng sai số:', np.std(y_3_4, ddof=1)/N)"
   ]
  },
  {
   "cell_type": "markdown",
   "metadata": {},
   "source": [
    "### **_Phương pháp 5:_**"
   ]
  },
  {
   "cell_type": "code",
   "execution_count": 135,
   "metadata": {},
   "outputs": [
    {
     "name": "stdout",
     "output_type": "stream",
     "text": [
      "Ước lượng: 0.0013161224654002841\n",
      "Ước lượng sai số: 2.765686077966276e-08\n"
     ]
    }
   ],
   "source": [
    "Y_3 = nrd.exponential(1, N) + 3\n",
    "\n",
    "psi_3_5 = lambda x: np.exp(-x) * np.exp(3)\n",
    "\n",
    "vec_psi_3_5 = np.vectorize(psi_3_5)\n",
    "y_3_5 = vec_f_3(Y_3)*vec_phi_3(Y_3)/vec_psi_3_5(Y_3)\n",
    "\n",
    "print('Ước lượng:', np.mean(y_3_5))\n",
    "print('Ước lượng sai số:', np.std(y_3_5, ddof=1)/N)"
   ]
  },
  {
   "cell_type": "markdown",
   "metadata": {},
   "source": [
    "$\\Longrightarrow$ Vậy phương pháp 5 là tốt nhất trong 5 phương pháp."
   ]
  },
  {
   "cell_type": "markdown",
   "metadata": {},
   "source": [
    "## **Dùng phương pháp tốt nhất trong các phương pháp trên tìm khoảng tin cậy $98\\%$ cho $I$.**"
   ]
  },
  {
   "cell_type": "code",
   "execution_count": 21,
   "metadata": {},
   "outputs": [],
   "source": [
    "N = 50_000\n",
    "a_1_a = -2\n",
    "b_1_a = 2\n",
    "Y_3 = nrd.exponential(1, N) + 3\n",
    "\n",
    "f_1_a = lambda x: np.exp(x + x**2)\n",
    "phi_1_a = lambda x: (x - a_1_a)/(b_1_a - a_1_a)\n",
    "psi_1_a = lambda x: np.exp(-x) * np.exp(3)\n",
    "\n",
    "vec_f_1_a = np.vectorize(f_1_a)\n",
    "vec_phi_1_a = np.vectorize(phi_1_a)\n",
    "vec_psi_1_a = np.vectorize(psi_1_a)\n",
    "\n",
    "func_3_b = lambda x: vec_f_1_a(x)*vec_phi_1_a(x)/vec_psi_1_a(x)\n",
    "vec_f_3_b = np.vectorize(func_3_b)"
   ]
  },
  {
   "cell_type": "code",
   "execution_count": 22,
   "metadata": {},
   "outputs": [],
   "source": [
    "# Compute confidence interval\n",
    "def compute_confidence_interval(confidence_level:float=0.98, X=Y_3, func=vec_f_3_b):\n",
    "    num_samples = len(X)\n",
    "    _y = func(X)\n",
    "    _z_MC = np.mean(_y)\n",
    "    _alpha = 1 - confidence_level\n",
    "    _q_alpha = ssts.norm.ppf(1 - _alpha / 2)\n",
    "    _sigma = np.std(_y, ddof=1)\n",
    "    return _z_MC + _q_alpha * _sigma / np.sqrt(num_samples) * np.array([-1, 1])"
   ]
  },
  {
   "cell_type": "markdown",
   "metadata": {},
   "source": [
    "Khoảng tin cậy $98\\%$ của $I$ trên $50,000$ mẫu:"
   ]
  },
  {
   "cell_type": "code",
   "execution_count": 23,
   "metadata": {},
   "outputs": [
    {
     "data": {
      "text/plain": [
       "array([-9.88971870e+79,  2.48033179e+80])"
      ]
     },
     "execution_count": 23,
     "metadata": {},
     "output_type": "execute_result"
    }
   ],
   "source": [
    "compute_confidence_interval()"
   ]
  },
  {
   "cell_type": "markdown",
   "metadata": {},
   "source": [
    "Do phân phối của câu 1.a. không cùng phân phối của X trong phương pháp này, nên khoảng tin cậy $98\\%$ nhưng vẫn có miền giá trị rộng."
   ]
  },
  {
   "cell_type": "markdown",
   "metadata": {},
   "source": [
    "# **CÂU 4**\n",
    "Dùng 2 phương pháp giảm phương sai khác nhau để ước lượng giá trị $I$ ở Câu 1.a. Tính (hoặc ước lượng) tỉ lệ giảm phương sai so với phương pháp ở Câu 1.a.\n",
    "\n",
    "$$\\displaystyle I=\\int_{-2}^{2}{e^{x+x^2}}{dx}$$"
   ]
  },
  {
   "cell_type": "markdown",
   "metadata": {},
   "source": [
    "## **Phương pháp biến đổi kiểm soát**"
   ]
  },
  {
   "cell_type": "markdown",
   "metadata": {},
   "source": [
    "Ta có tích phân có dạng tương tự với $I$:\n",
    "\n",
    "$\\begin{matrix}\n",
    "K &=& \\displaystyle \\int_{-2}^{-\\frac{1}{2}}{(2.9379x^2+2.9379x+1.5133)}{dx} + \\int_{-\\frac{1}{2}}^{2}{(64.424x^2+64.424x+16.8848)}{dx}\\\\\n",
    "&=& \\displaystyle 4.473375 + 337.48867\\\\\n",
    "&=& 341.962045\n",
    "\\end{matrix}$\n",
    "\n",
    "Với $f(x) = e^{x+x^2}$, $g(x) =\n",
    "\\begin{cases}\n",
    "2.9379x^2+2.9379x+1.5133 & \\qquad , x \\in \\left[-2; \\displaystyle-\\frac{1}{2}\\right]\\\\\n",
    "64.424x^2+64.424x+16.8848 & \\qquad , x \\in \\left(\\displaystyle-\\frac{1}{2}, 2\\right]\\\\\n",
    "\\end{cases}$, $X \\sim \\mathcal{U}(-2,2)$.\n",
    "\n",
    "Ta có: $I=E(f(x))$, $K=E(g(x))$.\n",
    "\n",
    "Sinh $X_1, X_2, \\dots, X_n \\overset{\\text{i.i.d}}{\\sim} \\mathcal{U}(-2,2)$:"
   ]
  },
  {
   "cell_type": "code",
   "execution_count": 217,
   "metadata": {},
   "outputs": [
    {
     "name": "stdout",
     "output_type": "stream",
     "text": [
      "Z_MC: 92.5580, Z_CV: 94.7188\n",
      "Estimated MSE ratio: 1.6009\n"
     ]
    }
   ],
   "source": [
    "N = 100000\n",
    "\n",
    "X = nrd.uniform(-2, 2,size=N)\n",
    "f_X = np.exp(X+X**2) * 4\n",
    "temp_g_X = lambda x: (2.9379 * x**2 + 2.9379 * x + 1.5133) if x <= -0.5 else (64.424 * x**2 + 64.424 * x + 16.8848)\n",
    "g_X = np.vectorize(temp_g_X)(X) * 4\n",
    "fg_X = f_X - g_X\n",
    "\n",
    "Z_MC = np.mean(f_X)\n",
    "Z_CV = np.mean(fg_X) + (341.962045)\n",
    "\n",
    "print(f\"Z_MC: {Z_MC:.4f}, Z_CV: {Z_CV:.4f}\")\n",
    "print(f\"Estimated MSE ratio: {np.var(fg_X)/np.var(f_X):.4f}\")"
   ]
  }
 ],
 "metadata": {
  "kernelspec": {
   "display_name": "min_ds-env",
   "language": "python",
   "name": "python3"
  },
  "language_info": {
   "codemirror_mode": {
    "name": "ipython",
    "version": 3
   },
   "file_extension": ".py",
   "mimetype": "text/x-python",
   "name": "python",
   "nbconvert_exporter": "python",
   "pygments_lexer": "ipython3",
   "version": "3.10.8"
  }
 },
 "nbformat": 4,
 "nbformat_minor": 2
}
