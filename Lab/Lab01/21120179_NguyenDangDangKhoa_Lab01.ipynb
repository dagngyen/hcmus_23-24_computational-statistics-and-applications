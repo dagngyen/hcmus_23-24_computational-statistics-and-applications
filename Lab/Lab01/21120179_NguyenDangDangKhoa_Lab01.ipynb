{
 "cells": [
  {
   "cell_type": "markdown",
   "metadata": {},
   "source": [
    "<style>\n",
    "    h1 {\n",
    "        padding: 8px 8px;\n",
    "        background-image: linear-gradient(135deg, #c9f3ff, rgb(131, 218, 255));\n",
    "        font-weight: 700;\n",
    "        position: static;\n",
    "        text-align: center;\n",
    "        color: #006098;\n",
    "        font-size: 36px;\n",
    "    }\n",
    "    h2 {\n",
    "        font-weight: 700;\n",
    "        text-align: center;\n",
    "        font-style: italic;\n",
    "        font-size: 24px;\n",
    "    }\n",
    "</style>\n",
    "\n",
    "<div><h1>THỐNG KÊ MÁY TÍNH VÀ ỨNG DỤNG</h1></div>\n",
    "<div><h2>Bài tập 01</h2></div>"
   ]
  },
  {
   "cell_type": "markdown",
   "metadata": {},
   "source": [
    "**THÔNG TIN CÁ NHÂN**\n",
    "\n",
    "- _Họ tên sinh viên:_ **Nguyễn Đặng Đăng Khoa**\n",
    "\n",
    "- _Mã số sinh viên:_ **21120179**"
   ]
  },
  {
   "cell_type": "markdown",
   "metadata": {},
   "source": [
    "**KHAI BÁO THƯ VIỆN**"
   ]
  },
  {
   "cell_type": "code",
   "execution_count": 1,
   "metadata": {},
   "outputs": [],
   "source": [
    "import numpy as np\n",
    "import numpy.matlib as npm\n",
    "import pandas as pd\n",
    "import math\n",
    "import random as rd\n",
    "import collections as clt\n",
    "import statistics as sts\n",
    "\n",
    "import matplotlib.pyplot as plt\n",
    "import seaborn as sns"
   ]
  },
  {
   "cell_type": "markdown",
   "metadata": {},
   "source": [
    "# **CÂU 1**\n",
    "Chơi trò Tôm Cua (https://vi.wikipedia.org/wiki/L%E1%BA%AFc_b%E1%BA%A7u_cua). Người chơi có $6$ tờ $1\\$$ và muốn đặt tất cả $6$ tờ này một lần. Phân tích các cách đặt (như đặt cả $6$ tờ vào mặt Tôm, hay $5$ tờ mặt Tôm và $1$ tờ mặt Cua...) để chọn ra cách đặt tốt nhất cho người chơi. Có nên chơi trò này không?"
   ]
  },
  {
   "cell_type": "markdown",
   "metadata": {},
   "source": [
    "**_Lý thuyết_**"
   ]
  },
  {
   "cell_type": "markdown",
   "metadata": {},
   "source": [
    "Giả sử, trò chơi Tôm Cua gồm có 6 ô hình sau: Bầu, Cua, Tôm, Cá, Gà, Nai.\n",
    "\n",
    "Với người chơi có $6$ tờ tiền mệnh giá $1\\$$ và muốn đặt tất cả $6$ tờ tiền vào một lần chơi, ta có **$11$** cách đặt như sau:\n",
    "- TH1: Đặt $6$ tờ tiền vào cùng $1$ ô hình.\n",
    "- TH2: Đặt $6$ tờ tiền vào $2$ ô hình khác nhau từng đôi với tỷ lệ $5-1$.\n",
    "- TH3: Đặt $6$ tờ tiền vào $2$ ô hình khác nhau từng đôi với tỷ lệ $4-2$.\n",
    "- TH4: Đặt $6$ tờ tiền vào $3$ ô hình khác nhau từng đôi với tỷ lệ $4-1-1$.\n",
    "- TH5: Đặt $6$ tờ tiền vào $2$ ô hình khác nhau từng đôi với tỷ lệ $3-3$.\n",
    "- TH6: Đặt $6$ tờ tiền vào $3$ ô hình khác nhau từng đôi với tỷ lệ $3-2-1$.\n",
    "- TH7: Đặt $6$ tờ tiền vào $4$ ô hình khác nhau từng đôi với tỷ lệ $3-1-1-1$.\n",
    "- TH8: Đặt $6$ tờ tiền vào $3$ ô hình khác nhau từng đôi với tỷ lệ $2-2-2$.\n",
    "- TH9: Đặt $6$ tờ tiền vào $4$ ô hình khác nhau từng đôi với tỷ lệ $2-2-1-1$.\n",
    "- TH10: Đặt $6$ tờ tiền vào $5$ ô hình khác nhau từng đôi với tỷ lệ $2-1-1-1-1$.\n",
    "- TH11: Đặt $6$ tờ tiền vào $6$ ô hình khác nhau từng đôi với tỷ lệ $1-1-1-1-1-1$.\n"
   ]
  },
  {
   "cell_type": "markdown",
   "metadata": {},
   "source": [
    "**_Mô phỏng_**"
   ]
  },
  {
   "cell_type": "markdown",
   "metadata": {},
   "source": [
    "- Mô phỏng xúc xắc và các trường hợp."
   ]
  },
  {
   "cell_type": "code",
   "execution_count": 2,
   "metadata": {},
   "outputs": [],
   "source": [
    "# Các ô hình trò chơi\n",
    "dice = ['Bầu', 'Cua', 'Tôm', 'Cá', 'Gà', 'Nai']\n",
    "\n",
    "# Các trường hợp đặt cược\n",
    "case_lst = [[6],\n",
    "            [5, 1],\n",
    "            [4, 2], [4, 1, 1],\n",
    "            [3, 3], [3, 2, 1], [3, 1, 1, 1],\n",
    "            [2, 2, 2], [2, 2, 1, 1], [2, 1, 1, 1, 1],\n",
    "            [1, 1, 1, 1, 1, 1]]\n",
    "\n",
    "# Số lần mô phỏng\n",
    "N = 1_000_000"
   ]
  },
  {
   "cell_type": "markdown",
   "metadata": {},
   "source": [
    "- Mô phỏng đổ xúc xắc và đặt cược."
   ]
  },
  {
   "cell_type": "code",
   "execution_count": 3,
   "metadata": {},
   "outputs": [],
   "source": [
    "def shake_dices(lst:list=dice, num_dices:np.uint8=3) -> list:\n",
    "    return np.random.choice(lst, num_dices)\n",
    "\n",
    "def place_bets(case_:list, lst:list=dice) -> list:\n",
    "    if len(case_) <= len(lst):\n",
    "        return rd.sample(lst, len(case_))\n",
    "    return []"
   ]
  },
  {
   "cell_type": "markdown",
   "metadata": {},
   "source": [
    "- Mô phỏng kiểm tra kết quả đặt cược"
   ]
  },
  {
   "cell_type": "code",
   "execution_count": 4,
   "metadata": {},
   "outputs": [],
   "source": [
    "# Kiểm tra kết quả đặt cược\n",
    "def check_result(bet_case:list, lst:list=dice) -> int:\n",
    "    dices = shake_dices(lst=lst)\n",
    "    count_dict = clt.Counter(dices)\n",
    "    way = place_bets(bet_case)\n",
    "    count_list = np.array([count_dict.get(ele_way, 0) for ele_way in way])\n",
    "    appearance = (count_list > 0)*1\n",
    "    return np.dot(bet_case, np.add(count_list, appearance)) - sum(bet_case)"
   ]
  },
  {
   "cell_type": "markdown",
   "metadata": {},
   "source": [
    "- Thực hiện mô phỏng $1,000,000$ lần chơi."
   ]
  },
  {
   "cell_type": "code",
   "execution_count": 5,
   "metadata": {},
   "outputs": [],
   "source": [
    "def simulate(bet_case:list, num_simulation:np.uint64=N, lst:list=dice) -> list:\n",
    "    record_lst = np.array([check_result(bet_case, lst=lst) for _ in range(num_simulation)])\n",
    "    win_raito = float(\"{:.3f}\".format((record_lst > 0).mean()))\n",
    "    prize = sts.mode(record_lst[(record_lst > 0)]) if win_raito > 0.0 else 0\n",
    "    lose_raito = float(\"{:.3f}\".format((record_lst < 0).mean()))\n",
    "    penalty = sts.mode(record_lst[(record_lst < 0)]) if lose_raito > 0.0 else 0\n",
    "    draw_raito = float(\"{:.3f}\".format(1.0 - win_raito - lose_raito))\n",
    "    return [win_raito, draw_raito, lose_raito, prize, penalty * (-1)]"
   ]
  },
  {
   "cell_type": "code",
   "execution_count": 6,
   "metadata": {},
   "outputs": [
    {
     "ename": "KeyboardInterrupt",
     "evalue": "",
     "output_type": "error",
     "traceback": [
      "\u001b[0;31m---------------------------------------------------------------------------\u001b[0m",
      "\u001b[0;31mKeyboardInterrupt\u001b[0m                         Traceback (most recent call last)",
      "Cell \u001b[0;32mIn[6], line 1\u001b[0m\n\u001b[0;32m----> 1\u001b[0m record_df \u001b[38;5;241m=\u001b[39m pd\u001b[38;5;241m.\u001b[39mDataFrame([simulate(case_) \u001b[38;5;28;01mfor\u001b[39;00m case_ \u001b[38;5;129;01min\u001b[39;00m case_lst],\n\u001b[1;32m      2\u001b[0m                           columns\u001b[38;5;241m=\u001b[39m[\u001b[38;5;124m'\u001b[39m\u001b[38;5;124mThắng\u001b[39m\u001b[38;5;124m'\u001b[39m, \u001b[38;5;124m'\u001b[39m\u001b[38;5;124mHòa\u001b[39m\u001b[38;5;124m'\u001b[39m, \u001b[38;5;124m'\u001b[39m\u001b[38;5;124mThua\u001b[39m\u001b[38;5;124m'\u001b[39m, \u001b[38;5;124m'\u001b[39m\u001b[38;5;124mSố tiền lời\u001b[39m\u001b[38;5;124m'\u001b[39m, \u001b[38;5;124m'\u001b[39m\u001b[38;5;124mSố tiền lỗ\u001b[39m\u001b[38;5;124m'\u001b[39m],\n\u001b[1;32m      3\u001b[0m                           index\u001b[38;5;241m=\u001b[39m[\u001b[38;5;124m'\u001b[39m\u001b[38;5;124m-\u001b[39m\u001b[38;5;124m'\u001b[39m\u001b[38;5;241m.\u001b[39mjoin(\u001b[38;5;28mmap\u001b[39m(\u001b[38;5;28mstr\u001b[39m, case_)) \u001b[38;5;28;01mfor\u001b[39;00m case_ \u001b[38;5;129;01min\u001b[39;00m case_lst])\n\u001b[1;32m      5\u001b[0m record_df\n",
      "Cell \u001b[0;32mIn[6], line 1\u001b[0m, in \u001b[0;36m<listcomp>\u001b[0;34m(.0)\u001b[0m\n\u001b[0;32m----> 1\u001b[0m record_df \u001b[38;5;241m=\u001b[39m pd\u001b[38;5;241m.\u001b[39mDataFrame([\u001b[43msimulate\u001b[49m\u001b[43m(\u001b[49m\u001b[43mcase_\u001b[49m\u001b[43m)\u001b[49m \u001b[38;5;28;01mfor\u001b[39;00m case_ \u001b[38;5;129;01min\u001b[39;00m case_lst],\n\u001b[1;32m      2\u001b[0m                           columns\u001b[38;5;241m=\u001b[39m[\u001b[38;5;124m'\u001b[39m\u001b[38;5;124mThắng\u001b[39m\u001b[38;5;124m'\u001b[39m, \u001b[38;5;124m'\u001b[39m\u001b[38;5;124mHòa\u001b[39m\u001b[38;5;124m'\u001b[39m, \u001b[38;5;124m'\u001b[39m\u001b[38;5;124mThua\u001b[39m\u001b[38;5;124m'\u001b[39m, \u001b[38;5;124m'\u001b[39m\u001b[38;5;124mSố tiền lời\u001b[39m\u001b[38;5;124m'\u001b[39m, \u001b[38;5;124m'\u001b[39m\u001b[38;5;124mSố tiền lỗ\u001b[39m\u001b[38;5;124m'\u001b[39m],\n\u001b[1;32m      3\u001b[0m                           index\u001b[38;5;241m=\u001b[39m[\u001b[38;5;124m'\u001b[39m\u001b[38;5;124m-\u001b[39m\u001b[38;5;124m'\u001b[39m\u001b[38;5;241m.\u001b[39mjoin(\u001b[38;5;28mmap\u001b[39m(\u001b[38;5;28mstr\u001b[39m, case_)) \u001b[38;5;28;01mfor\u001b[39;00m case_ \u001b[38;5;129;01min\u001b[39;00m case_lst])\n\u001b[1;32m      5\u001b[0m record_df\n",
      "Cell \u001b[0;32mIn[5], line 2\u001b[0m, in \u001b[0;36msimulate\u001b[0;34m(bet_case, num_simulation, lst)\u001b[0m\n\u001b[1;32m      1\u001b[0m \u001b[38;5;28;01mdef\u001b[39;00m \u001b[38;5;21msimulate\u001b[39m(bet_case:\u001b[38;5;28mlist\u001b[39m, num_simulation:np\u001b[38;5;241m.\u001b[39muint64\u001b[38;5;241m=\u001b[39mN, lst:\u001b[38;5;28mlist\u001b[39m\u001b[38;5;241m=\u001b[39mdice) \u001b[38;5;241m-\u001b[39m\u001b[38;5;241m>\u001b[39m \u001b[38;5;28mlist\u001b[39m:\n\u001b[0;32m----> 2\u001b[0m     record_lst \u001b[38;5;241m=\u001b[39m np\u001b[38;5;241m.\u001b[39marray([check_result(bet_case, lst\u001b[38;5;241m=\u001b[39mlst) \u001b[38;5;28;01mfor\u001b[39;00m _ \u001b[38;5;129;01min\u001b[39;00m \u001b[38;5;28mrange\u001b[39m(num_simulation)])\n\u001b[1;32m      3\u001b[0m     win_raito \u001b[38;5;241m=\u001b[39m \u001b[38;5;28mfloat\u001b[39m(\u001b[38;5;124m\"\u001b[39m\u001b[38;5;132;01m{:.3f}\u001b[39;00m\u001b[38;5;124m\"\u001b[39m\u001b[38;5;241m.\u001b[39mformat((record_lst \u001b[38;5;241m>\u001b[39m \u001b[38;5;241m0\u001b[39m)\u001b[38;5;241m.\u001b[39mmean()))\n\u001b[1;32m      4\u001b[0m     prize \u001b[38;5;241m=\u001b[39m sts\u001b[38;5;241m.\u001b[39mmode(record_lst[(record_lst \u001b[38;5;241m>\u001b[39m \u001b[38;5;241m0\u001b[39m)]) \u001b[38;5;28;01mif\u001b[39;00m win_raito \u001b[38;5;241m>\u001b[39m \u001b[38;5;241m0.0\u001b[39m \u001b[38;5;28;01melse\u001b[39;00m \u001b[38;5;241m0\u001b[39m\n",
      "Cell \u001b[0;32mIn[5], line 2\u001b[0m, in \u001b[0;36m<listcomp>\u001b[0;34m(.0)\u001b[0m\n\u001b[1;32m      1\u001b[0m \u001b[38;5;28;01mdef\u001b[39;00m \u001b[38;5;21msimulate\u001b[39m(bet_case:\u001b[38;5;28mlist\u001b[39m, num_simulation:np\u001b[38;5;241m.\u001b[39muint64\u001b[38;5;241m=\u001b[39mN, lst:\u001b[38;5;28mlist\u001b[39m\u001b[38;5;241m=\u001b[39mdice) \u001b[38;5;241m-\u001b[39m\u001b[38;5;241m>\u001b[39m \u001b[38;5;28mlist\u001b[39m:\n\u001b[0;32m----> 2\u001b[0m     record_lst \u001b[38;5;241m=\u001b[39m np\u001b[38;5;241m.\u001b[39marray([\u001b[43mcheck_result\u001b[49m\u001b[43m(\u001b[49m\u001b[43mbet_case\u001b[49m\u001b[43m,\u001b[49m\u001b[43m \u001b[49m\u001b[43mlst\u001b[49m\u001b[38;5;241;43m=\u001b[39;49m\u001b[43mlst\u001b[49m\u001b[43m)\u001b[49m \u001b[38;5;28;01mfor\u001b[39;00m _ \u001b[38;5;129;01min\u001b[39;00m \u001b[38;5;28mrange\u001b[39m(num_simulation)])\n\u001b[1;32m      3\u001b[0m     win_raito \u001b[38;5;241m=\u001b[39m \u001b[38;5;28mfloat\u001b[39m(\u001b[38;5;124m\"\u001b[39m\u001b[38;5;132;01m{:.3f}\u001b[39;00m\u001b[38;5;124m\"\u001b[39m\u001b[38;5;241m.\u001b[39mformat((record_lst \u001b[38;5;241m>\u001b[39m \u001b[38;5;241m0\u001b[39m)\u001b[38;5;241m.\u001b[39mmean()))\n\u001b[1;32m      4\u001b[0m     prize \u001b[38;5;241m=\u001b[39m sts\u001b[38;5;241m.\u001b[39mmode(record_lst[(record_lst \u001b[38;5;241m>\u001b[39m \u001b[38;5;241m0\u001b[39m)]) \u001b[38;5;28;01mif\u001b[39;00m win_raito \u001b[38;5;241m>\u001b[39m \u001b[38;5;241m0.0\u001b[39m \u001b[38;5;28;01melse\u001b[39;00m \u001b[38;5;241m0\u001b[39m\n",
      "Cell \u001b[0;32mIn[4], line 5\u001b[0m, in \u001b[0;36mcheck_result\u001b[0;34m(bet_case, lst)\u001b[0m\n\u001b[1;32m      3\u001b[0m dices \u001b[38;5;241m=\u001b[39m shake_dices(lst\u001b[38;5;241m=\u001b[39mlst)\n\u001b[1;32m      4\u001b[0m count_dict \u001b[38;5;241m=\u001b[39m clt\u001b[38;5;241m.\u001b[39mCounter(dices)\n\u001b[0;32m----> 5\u001b[0m way \u001b[38;5;241m=\u001b[39m \u001b[43mplace_bets\u001b[49m\u001b[43m(\u001b[49m\u001b[43mbet_case\u001b[49m\u001b[43m)\u001b[49m\n\u001b[1;32m      6\u001b[0m count_list \u001b[38;5;241m=\u001b[39m np\u001b[38;5;241m.\u001b[39marray([count_dict\u001b[38;5;241m.\u001b[39mget(ele_way, \u001b[38;5;241m0\u001b[39m) \u001b[38;5;28;01mfor\u001b[39;00m ele_way \u001b[38;5;129;01min\u001b[39;00m way])\n\u001b[1;32m      7\u001b[0m appearance \u001b[38;5;241m=\u001b[39m (count_list \u001b[38;5;241m>\u001b[39m \u001b[38;5;241m0\u001b[39m)\u001b[38;5;241m*\u001b[39m\u001b[38;5;241m1\u001b[39m\n",
      "Cell \u001b[0;32mIn[3], line 6\u001b[0m, in \u001b[0;36mplace_bets\u001b[0;34m(case_, lst)\u001b[0m\n\u001b[1;32m      4\u001b[0m \u001b[38;5;28;01mdef\u001b[39;00m \u001b[38;5;21mplace_bets\u001b[39m(case_:\u001b[38;5;28mlist\u001b[39m, lst:\u001b[38;5;28mlist\u001b[39m\u001b[38;5;241m=\u001b[39mdice) \u001b[38;5;241m-\u001b[39m\u001b[38;5;241m>\u001b[39m \u001b[38;5;28mlist\u001b[39m:\n\u001b[1;32m      5\u001b[0m     \u001b[38;5;28;01mif\u001b[39;00m \u001b[38;5;28mlen\u001b[39m(case_) \u001b[38;5;241m<\u001b[39m\u001b[38;5;241m=\u001b[39m \u001b[38;5;28mlen\u001b[39m(lst):\n\u001b[0;32m----> 6\u001b[0m         \u001b[38;5;28;01mreturn\u001b[39;00m \u001b[43mrd\u001b[49m\u001b[38;5;241;43m.\u001b[39;49m\u001b[43msample\u001b[49m\u001b[43m(\u001b[49m\u001b[43mlst\u001b[49m\u001b[43m,\u001b[49m\u001b[43m \u001b[49m\u001b[38;5;28;43mlen\u001b[39;49m\u001b[43m(\u001b[49m\u001b[43mcase_\u001b[49m\u001b[43m)\u001b[49m\u001b[43m)\u001b[49m\n\u001b[1;32m      7\u001b[0m     \u001b[38;5;28;01mreturn\u001b[39;00m []\n",
      "File \u001b[0;32m~/miniconda3/envs/min_ds-env/lib/python3.10/random.py:494\u001b[0m, in \u001b[0;36mRandom.sample\u001b[0;34m(self, population, k, counts)\u001b[0m\n\u001b[1;32m    492\u001b[0m         j \u001b[38;5;241m=\u001b[39m randbelow(n \u001b[38;5;241m-\u001b[39m i)\n\u001b[1;32m    493\u001b[0m         result[i] \u001b[38;5;241m=\u001b[39m pool[j]\n\u001b[0;32m--> 494\u001b[0m         pool[j] \u001b[38;5;241m=\u001b[39m pool[n \u001b[38;5;241m-\u001b[39m i \u001b[38;5;241m-\u001b[39m \u001b[38;5;241m1\u001b[39m]  \u001b[38;5;66;03m# move non-selected item into vacancy\u001b[39;00m\n\u001b[1;32m    495\u001b[0m \u001b[38;5;28;01melse\u001b[39;00m:\n\u001b[1;32m    496\u001b[0m     selected \u001b[38;5;241m=\u001b[39m \u001b[38;5;28mset\u001b[39m()\n",
      "\u001b[0;31mKeyboardInterrupt\u001b[0m: "
     ]
    }
   ],
   "source": [
    "record_df = pd.DataFrame([simulate(case_) for case_ in case_lst],\n",
    "                          columns=['Thắng', 'Hòa', 'Thua', 'Số tiền lời', 'Số tiền lỗ'],\n",
    "                          index=['-'.join(map(str, case_)) for case_ in case_lst])\n",
    "\n",
    "record_df"
   ]
  },
  {
   "cell_type": "code",
   "execution_count": null,
   "metadata": {},
   "outputs": [
    {
     "data": {
      "image/png": "[encoded data removed]",
      "text/plain": [
       "<Figure size 1200x600 with 1 Axes>"
      ]
     },
     "metadata": {},
     "output_type": "display_data"
    }
   ],
   "source": [
    "record_df[['Thắng', 'Hòa', 'Thua']].plot(kind='bar', stacked=True, color=['#99FF99', '#66CCFF', '#BFBFBF'], figsize=(12, 6), ylim=[0, 1]);\n",
    "plt.title('Tỷ lệ thắng thua của từng cách đặt', {'weight': 'bold', 'size': 24}, 'center', 36);\n",
    "plt.xticks(rotation=0);\n",
    "plt.xlabel('Cách đặt tiền', {'style': 'italic', 'size': 12})\n",
    "plt.ylabel('Tỷ lệ', {'style': 'italic', 'size': 12})\n",
    "plt.legend(bbox_to_anchor=(0, 1.02, 1, 0.2), loc=\"lower left\", mode=\"expand\", borderaxespad=0, ncol=3);\n",
    "\n",
    "not_lose_raito = 1 - record_df['Thua'].mean()\n",
    "win_raito = record_df['Thắng'].mean()\n",
    "plt.axhline(y=win_raito, linestyle='--', color='#006600');\n",
    "plt.annotate(\"Tỷ lệ trung bình kết quả thắng: {:.3f}\".format(win_raito), xy=(0, win_raito), xytext=(0, win_raito+0.02), color='#006600', weight='bold');\n",
    "plt.axhline(y=not_lose_raito, linestyle='--', color='#003399');\n",
    "plt.annotate(\"Tỷ lệ trung bình kết quả không thua: {:.3f}\".format(not_lose_raito), xy=(0, not_lose_raito), xytext=(0, not_lose_raito+0.02), color='#003399', weight='bold');"
   ]
  },
  {
   "cell_type": "code",
   "execution_count": null,
   "metadata": {},
   "outputs": [
    {
     "data": {
      "image/png": "[encoded data removed]",
      "text/plain": [
       "<Figure size 1200x600 with 1 Axes>"
      ]
     },
     "metadata": {},
     "output_type": "display_data"
    }
   ],
   "source": [
    "record_df[['Số tiền lời', 'Số tiền lỗ']].plot(kind='bar', color=['#99FF99', '#BFBFBF'], figsize=(12, 6));\n",
    "plt.title('Số tiền chênh lệch của từng cách đặt', {'weight': 'bold', 'size': 24}, 'center', 36);\n",
    "plt.xticks(rotation=0);\n",
    "plt.xlabel('Cách đặt tiền', {'style': 'italic', 'size': 12})\n",
    "plt.ylabel('Số tờ tiền', {'style': 'italic', 'size': 12})\n",
    "plt.legend(bbox_to_anchor=(0, 1.02, 1, 0.2), loc=\"lower left\", mode=\"expand\", borderaxespad=0, ncol=3);\n",
    "\n",
    "prize = round(record_df['Số tiền lời'].mean())\n",
    "penalty = round(record_df['Số tiền lỗ'].mean())\n",
    "plt.axhline(y=prize, linestyle='--', color='#006600');\n",
    "plt.annotate(\"Số tiền lời trung bình: %d\" % prize, xy=(0, prize), xytext=(0, prize+0.1), color='#006600', weight='bold');\n",
    "plt.axhline(y=penalty, linestyle='--', color='#404040');\n",
    "plt.annotate(\"Số tiền lỗ trung bình: %d\" % penalty, xy=(0, penalty), xytext=(0, penalty+0.1), color='#404040', weight='bold');"
   ]
  },
  {
   "cell_type": "markdown",
   "metadata": {},
   "source": [
    "**_Nhận xét_**\n",
    "- Nhìn chung, tỷ lệ người chơi sẽ thắng hoặc không thua dưới xấp xỉ $50\\%$, đây là tỷ lệ mức khả quan. Cụ thể, tỷ lệ người chơi sẽ thắng là $32.9\\%$, tỷ lệ người chơi không bị thua là $51.3\\%$.\n",
    "- Số tiền lời trung bình (khi người chơi thắng) thấp hơn số tiền lỗ trung bình (khi người chơi thua), cho thấy số tiền người chơi lời nhận được ở lượt này xấp xỉ bằng hoặc ít hơn số tiền mất mát ở lượt chơi khác.\n",
    "- Xét về các cách đặt tiền vào các ô hình:\n",
    "    + TH1: Tỷ lệ thắng cao hơn mức trung bình, số tiền lời nhận về cao nhất. Sự chênh lệch giữa số tiền lời và lỗ dường như không có.\n",
    "    + TH2: Tỷ lệ thắng cao hơn mức trung bình, số tiền lời nhận về lớn. Số tiền lỗ cao hơn số tiền lời.\n",
    "    + TH3: Tỷ lệ thắng cao hơn mức trung bình, số tiền lời nhận về rất ít. Số tiền lỗ cao hơn số tiền lời và có sự chênh lệch rõ rệt.\n",
    "    + TH4: Tỷ lệ thắng cao hơn mức trung bình, số tiền lời nhận về lớn. Sự chênh lệch giữa số tiền lời và lỗ dường như không có.\n",
    "    + TH5: Tỷ lệ thắng thấp hơn mức trung bình, nhưng số tiền lời nhận về cao nhất. Sự chênh lệch giữa số tiền lời và lỗ dường như không có.\n",
    "    + TH6: Tỷ lệ thắng xấp xỉ mức trung bình, số tiền lời nhận về không nhiều. Số tiền lỗ cao hơn số tiền lời.\n",
    "    + TH7: Tỷ lệ thắng cao hơn mức trung bình, số tiền lời nhận về không nhiều. Sự chênh lệch giữa số tiền lời và lỗ dường như không có.\n",
    "    + TH8: Tỷ lệ thắng cao hơn mức trung bình, số tiền lời nhận về rất ít. Sự chênh lệch giữa số tiền lời và lỗ dường như không có.\n",
    "    + TH9: Tỷ lệ thắng thấp hơn mức trung bình, số tiền lời nhận về rất ít. Số tiền lỗ cao hơn số tiền lời.\n",
    "    + TH10: Tỷ lệ thắng thấp hơn mức trung bình, số tiền lời nhận về rất ít. Sự chênh lệch giữa số tiền lời và lỗ dường như không có.\n",
    "    + TH11: Tỷ lệ thắng không có, tỷ lệ thua tương đối cao, xấp xỉ $50\\%$. Số tiền lỗ rất ít.\n",
    "    \n",
    "$\\Rightarrow$ Để giảm thiểu mất mát, người chơi có thể đặt những cách có tỷ lệ thắng cao, số tiền lời cao và sự chênh lệch với số tiền lỗ nhỏ, như là cách đặt $6$, $5-1$, $4-1-1$, $3-3$, $3-1-1-1$, $2-2-2$.   \n"
   ]
  },
  {
   "cell_type": "markdown",
   "metadata": {},
   "source": [
    "# **CÂU 2**\n",
    "Chơi game bắn quái vật. Giả sử các lần bắn độc lập nhau với xác suất trúng mỗi lần là $\\frac{1}{4}$. Quái vật bị mất $20\\%$ máu sau mỗi lần bị bắn trúng và chết khi mất $100\\%$ máu."
   ]
  },
  {
   "cell_type": "code",
   "execution_count": null,
   "metadata": {},
   "outputs": [],
   "source": [
    "# Quái vật\n",
    "monster = 1.0\n",
    "\n",
    "# Xác suất bắn trúng\n",
    "p_hit = 0.25\n",
    "\n",
    "# Mức máu hao hụt khi trúng đạn\n",
    "reducetion = 0.2\n",
    "\n",
    "# Số lần mô phỏng\n",
    "N = 1_000_000"
   ]
  },
  {
   "cell_type": "markdown",
   "metadata": {},
   "source": [
    "**_Lý thuyết_**\n",
    "\n",
    "Gọi $X$ là số lần người chơi bắn trượt cho tới khi quái vật chết.</br>\n",
    "Gọi $r$ là số lần bắn trúng cần thiết để quái vật chết.</br>\n",
    "Gọi $p$ là xác suất người chơi bắn trúng quái vật ở mỗi lần bắn.</br>\n",
    "Gọi $Y$ là số lần người chơi cần bắn cho tới khi quái vật chết.\n",
    "\n",
    "Khi đó:\n",
    "- $p = \\frac{1}{4}$.\n",
    "- $r = 5$.\n",
    "- $Y = X + r$.\n",
    "- $X$ có phân phối nhị thức âm với $r$ và $p$ hay $X \\sim \\text{nb}(x, r, p)$."
   ]
  },
  {
   "cell_type": "markdown",
   "metadata": {},
   "source": [
    "## **_Tính xác suất quái vật chết sau không quá $20$ lần bắn._**"
   ]
  },
  {
   "cell_type": "markdown",
   "metadata": {},
   "source": [
    "**_Lý thuyết_**\n",
    "\n",
    "Xác suất để quái vật chết sau không quá $20$ lần bắn:</br>\n",
    "$\\displaystyle P(Y\\leq 20) = P(X\\leq 15) = \\sum_{x=0}^{15}\\text{nb}\\left(x,5,\\frac{1}{4}\\right) = \\sum_{x=0}^{15}C_{x+4}^4 \\left(\\frac{1}{4}\\right)^5 \\left(\\frac{3}{4}\\right)^x$"
   ]
  },
  {
   "cell_type": "code",
   "execution_count": null,
   "metadata": {},
   "outputs": [
    {
     "data": {
      "text/plain": [
       "0.585"
      ]
     },
     "execution_count": 10,
     "metadata": {},
     "output_type": "execute_result"
    }
   ],
   "source": [
    "float(\"{:.3f}\".format((0.25**5) * np.sum([math.comb(x+4, 4)*(0.75**x) for x in range(16)])))"
   ]
  },
  {
   "cell_type": "markdown",
   "metadata": {},
   "source": [
    "**_Mô phỏng_**"
   ]
  },
  {
   "cell_type": "code",
   "execution_count": null,
   "metadata": {},
   "outputs": [
    {
     "name": "stdout",
     "output_type": "stream",
     "text": [
      "Xác suất quái vật chết sau không quá 20 lần bắn: 0.586\n"
     ]
    }
   ],
   "source": [
    "# Kiểm tra quái vật có chết trong 20 lần bắn hay không\n",
    "def is_killed(num_shots:np.uint64, monster:float=monster, weight:float=p_hit, amount_reduce:float=reducetion):\n",
    "    num_hits = (np.random.choice(['Trúng', 'Trượt'], num_shots, p=[weight, 1-weight]) == 'Trúng').sum()\n",
    "    monster -= num_hits * amount_reduce\n",
    "    return float(\"{:.1f}\".format(monster)) <= 0\n",
    "\n",
    "# Tính xác suất bắn quái vật chết không quá 20 lần bắn\n",
    "def compute_frequency(num_shots:np.uint64, num_simulation:np.uint64=N):\n",
    "    return float(\"{:.3f}\".format(np.array([is_killed(num_shots) for _ in range(num_simulation)]).mean()))\n",
    "\n",
    "print('Xác suất quái vật chết sau không quá 20 lần bắn:', compute_frequency(20, N))"
   ]
  },
  {
   "cell_type": "markdown",
   "metadata": {},
   "source": [
    "## **_Cần bắn ít nhất bao nhiêu lần để quái vật chết với xác suất không dưới $95\\%$?_**"
   ]
  },
  {
   "cell_type": "markdown",
   "metadata": {},
   "source": [
    "**_Lý thuyết_**\n",
    "\n",
    "Theo đề, ta có:</br>\n",
    "$\\begin{matrix}\n",
    "& \\displaystyle P\\left(Y\\leq x+5\\right) & \\geq & 0.95 & \\text{(với } x+5 \\text{ là số lần bắn đến khi quái vật chết)}\\\\\n",
    "\\Leftrightarrow & P\\left(X\\leq x\\right) & \\geq & 0.95 \\\\\n",
    "\\Leftrightarrow & \\displaystyle \\sum_{k=0}^{x} C_{k+4}^4 \\left(\\frac{1}{4}\\right)^5 \\left(\\frac{3}{4}\\right)^k & \\displaystyle \\geq & 0.95 \\\\\n",
    "\\end{matrix}$"
   ]
  },
  {
   "cell_type": "code",
   "execution_count": null,
   "metadata": {},
   "outputs": [
    {
     "name": "stdout",
     "output_type": "stream",
     "text": [
      "Vậy cần phải bắn ít nhất 34 lần để xác suất quái vật chết không dưới 95%.\n"
     ]
    }
   ],
   "source": [
    "def compute_prob_greater_than(prob:float):\n",
    "    x_ = 0\n",
    "    sum = math.comb(x_+4, 4)*(0.25**5)*(0.75**x_)\n",
    "    while sum < prob:\n",
    "        x_ += 1\n",
    "        sum += math.comb(x_+4, 4)*(0.25**5)*(0.75**x_)\n",
    "    return x_ + 5\n",
    "\n",
    "print('Vậy cần phải bắn ít nhất',\n",
    "      compute_prob_greater_than(0.95),\n",
    "      'lần để xác suất quái vật chết không dưới 95%.')"
   ]
  },
  {
   "cell_type": "markdown",
   "metadata": {},
   "source": [
    "**_Mô phỏng_**"
   ]
  },
  {
   "cell_type": "code",
   "execution_count": null,
   "metadata": {},
   "outputs": [],
   "source": [
    "record_s = pd.Series([compute_frequency(index, N) for index in range(51)])"
   ]
  },
  {
   "cell_type": "code",
   "execution_count": null,
   "metadata": {},
   "outputs": [
    {
     "data": {
      "image/png": "[encoded data removed]",
      "text/plain": [
       "<Figure size 640x480 with 1 Axes>"
      ]
     },
     "metadata": {},
     "output_type": "display_data"
    }
   ],
   "source": [
    "record_s.plot(ylim=[0, 1], xlim=[0,50], xticks=range(0, 51, 2), yticks=np.arange(0, 1.05, 0.1));\n",
    "plt.grid(True);\n",
    "plt.axhline(y=0.95, linestyle='--', color='#006600');\n",
    "plt.annotate(\"P(Y) = {:.2f}\".format(0.95), xy=(0, 0.95), xytext=(10, 0.9),\n",
    "             color='#006600', weight='bold');\n",
    "\n",
    "x_val = record_s[record_s >= 0.95].index[0]\n",
    "plt.axvline(x=x_val, linestyle='--', color='#006600');\n",
    "plt.annotate(\"x = %d\" % x_val, xy=(x_val, 0), xytext=(x_val+0.5, 0.5),\n",
    "             color='#006600', weight='bold', rotation=90);"
   ]
  },
  {
   "cell_type": "markdown",
   "metadata": {},
   "source": [
    "## **_Cần bắn khoảng bao nhiêu lần để quái vật chết?_**"
   ]
  },
  {
   "cell_type": "markdown",
   "metadata": {},
   "source": [
    "**_Lý thuyết_**\n",
    "\n",
    "Ta có kỳ vọng:\n",
    "\n",
    "$\\displaystyle E\\left(X\\right) = \\frac{r \\left(1-p\\right)}{p} = \\frac{5*\\displaystyle\\frac{3}{4}}{\\displaystyle\\frac{1}{4}}=15\\\\\n",
    "\\Rightarrow E\\left(Y\\right) = E\\left(X+5\\right) = E\\left(X\\right) + 5 = 20$\n",
    "\n",
    "Vậy, kỳ vọng khoảng $20$ lần bắn để quái vật chết.\n"
   ]
  },
  {
   "cell_type": "markdown",
   "metadata": {},
   "source": [
    "**_Mô phỏng_**"
   ]
  },
  {
   "cell_type": "code",
   "execution_count": null,
   "metadata": {},
   "outputs": [],
   "source": [
    "# Đếm số lần bắn cho đến khi quái vật chết\n",
    "def count_number_shots(monster:float=monster, weight:float=p_hit, amount_reduce:float=reducetion):\n",
    "    count = 0\n",
    "    while monster > 0.0:\n",
    "        if np.random.choice(['Trúng', 'Trượt'], 1, p=[weight, 1-weight])[0] == 'Trúng':\n",
    "            monster -= amount_reduce\n",
    "        count += 1\n",
    "    return count"
   ]
  },
  {
   "cell_type": "code",
   "execution_count": null,
   "metadata": {},
   "outputs": [
    {
     "name": "stdout",
     "output_type": "stream",
     "text": [
      "Mode:  20\n"
     ]
    },
    {
     "data": {
      "image/png": "[encoded data removed]",
      "text/plain": [
       "<Figure size 640x480 with 1 Axes>"
      ]
     },
     "metadata": {},
     "output_type": "display_data"
    }
   ],
   "source": [
    "record_s = pd.Series([count_number_shots() for _ in range (N)])\n",
    "plt.hist(record_s, record_s.unique().max()-record_s.unique().min()+1);\n",
    "\n",
    "mode_val = round(sts.mode(record_s))\n",
    "plt.axvline(x=mode_val, color='#404040');\n",
    "plt.annotate(\"Mode: %d\" % mode_val, xy=(mode_val, 0), xytext=(mode_val+0.5, 6000),\n",
    "             color='#404040', weight='bold', rotation=90, size=7.5);\n",
    "\n",
    "print('Mode: ', mode_val)"
   ]
  },
  {
   "cell_type": "markdown",
   "metadata": {},
   "source": [
    "Vậy, cần khoảng $20$ lần bắn để quái vật chết."
   ]
  },
  {
   "cell_type": "markdown",
   "metadata": {},
   "source": [
    "## **_Làm lại câu trên với giả sử nếu sau $5$ lần liên tiếp không bắn trúng thì quái vật sẽ phục hồi $100\\%$ máu._**"
   ]
  },
  {
   "cell_type": "code",
   "execution_count": null,
   "metadata": {},
   "outputs": [],
   "source": [
    "# Đếm số lần bắn cho đến khi quái vật chết\n",
    "def count_number_shots(monster:float=monster, weight:float=p_hit, amount_reduce:float=reducetion):\n",
    "    count = 0\n",
    "    marker = 0\n",
    "    while (monster > 0.0):\n",
    "        count += 1\n",
    "        marker += 1\n",
    "        if rd.choices(['Trúng', 'Trượt'], [weight, 1-weight])[0] == 'Trúng':\n",
    "            monster -= amount_reduce\n",
    "            marker = 0\n",
    "        if marker == 5:\n",
    "            monster = 1.0\n",
    "    return count"
   ]
  },
  {
   "cell_type": "code",
   "execution_count": null,
   "metadata": {},
   "outputs": [
    {
     "name": "stdout",
     "output_type": "stream",
     "text": [
      "Mode:  15\n"
     ]
    },
    {
     "data": {
      "image/png": "[encoded data removed]",
      "text/plain": [
       "<Figure size 640x480 with 1 Axes>"
      ]
     },
     "metadata": {},
     "output_type": "display_data"
    }
   ],
   "source": [
    "record_s = pd.Series([count_number_shots() for _ in range (N)])\n",
    "plt.hist(record_s, record_s.unique().max()-record_s.unique().min()+1);\n",
    "\n",
    "mode_val = round(sts.mode(record_s))\n",
    "plt.axvline(x=mode_val, color='#404040');\n",
    "plt.annotate(\"Mode: %d\" % mode_val, xy=(mode_val, 0), xytext=(mode_val+0.5, 6000),\n",
    "             color='#404040', weight='bold', rotation=90, size=7.5);\n",
    "\n",
    "print('Mode: ', mode_val)"
   ]
  },
  {
   "cell_type": "markdown",
   "metadata": {},
   "source": [
    "# **CÂU 3**\n",
    "Bài toán cháy túi. Một người chơi bạc ở Casino. Giả sử mỗi lần chơi chỉ cược $1\\$$ và thắng với xác suất là $p$. Người chơi có vốn ban đầu là $k\\$$ và chơi cho đến khi được $q\\$$ hoặc cháy túi mới dừng. Tính xác suất cháy túi trong các trường hợp:"
   ]
  },
  {
   "cell_type": "code",
   "execution_count": null,
   "metadata": {},
   "outputs": [],
   "source": [
    "# Số tiền đặt cược\n",
    "bet_amount = 1\n",
    "\n",
    "# Số lần mô phỏng\n",
    "N = 30_000\n",
    "\n",
    "# Mô phỏng trò chơi\n",
    "def is_burnt_out(capital:int, target:np.uint64, prob:float, amount:np.uint64=bet_amount) -> bool:\n",
    "    while 0 < capital and capital < target:\n",
    "        if np.random.choice(['Thắng', 'Thua'], 1, p=[prob, 1-prob])[0] == 'Thắng':\n",
    "            capital += amount\n",
    "        else:\n",
    "            capital -= amount\n",
    "    return True if capital == 0 else False\n",
    "\n",
    "def simulate(capital:int, target:np.uint64, prob:float, amount:np.uint64=bet_amount, num_simulation:np.uint64=N):\n",
    "    return np.mean(np.array([is_burnt_out(capital, target, prob, amount)*1 for _ in range(num_simulation)]))"
   ]
  },
  {
   "cell_type": "markdown",
   "metadata": {},
   "source": [
    "**_Lý thuyết:_** **XÍCH MARKOV**\n",
    "\n",
    "Theo đề bài, ta có các trạng thái sau mỗi lần chơi của người chơi:\n",
    "- Trạng thái $s_0$: Người chơi đang có $0\\$$ (tức người chơi cháy túi),\n",
    "- Trạng thái $s_1$: Người chơi đang có $1\\$$,</br>\n",
    "$\\qquad\\vdots$\n",
    "- Trạng thái $s_k$: Người chơi đang có $k\\$$,</br>\n",
    "$\\qquad\\vdots$\n",
    "- Trạng thái $s_{q-1}$: Người chơi đang có $\\left(q-1\\right)\\$$,\n",
    "- Trạng thái $s_q$: Người chơi đang có $q\\$$ (tức người chơi dừng chơi vì đã đạt được $q\\$$).\n",
    "\n",
    "Tại từng lần chơi rời rạc $t=0,1,2,...$, người chơi chỉ nhận đúng một trong các trạng thái $s_1,s_2,...,s_k,...,s_{q-1},s_q$.\n",
    "\n",
    "Gọi $X_n$ là biến ngẫu nhiên biểu diễn trạng thái $s_k$ bất kỳ tại lần chơi thứ $n=0,1,2,...$.\n",
    "\n",
    "Gọi $\\pi_n(k)=P(X_n)=s_k$, có nghĩa là $\\pi_n(k)$ là phân phối Xích Markov tại lần chơi $t=n$ của trạng thái $s_k$. Khi đó $\\pi_n^\\top=\\left(\\pi_n(0),\\pi_n(1),...,\\pi_n(q)\\right)$ là vector của các xích tại thời điểm lần chơi $t=n$.\n",
    "\n",
    "Gọi $P=(p_{ij})\\in\\mathbb{R}^{q\\times q}$, với $i,j=0,1,2,...,q$. Với mọi $n$, ta có:</br>\n",
    "$\\displaystyle \\pi_n=\\pi_0P^n$"
   ]
  },
  {
   "cell_type": "markdown",
   "metadata": {},
   "source": [
    "## $p=\\frac{1}{2}$, $k=55$, $q=100$."
   ]
  },
  {
   "cell_type": "code",
   "execution_count": null,
   "metadata": {},
   "outputs": [],
   "source": [
    "p = 0.5\n",
    "k = 55\n",
    "q = 100"
   ]
  },
  {
   "cell_type": "markdown",
   "metadata": {},
   "source": [
    "**_Lý thuyết_**\n",
    "\n",
    "Ta có: $k=55$, $q=100$, $\\displaystyle p\\left(\\text{thắng}\\right)=\\frac{1}{2} \\Rightarrow p\\left(\\text{thua}\\right)=\\frac{1}{2}$.</br>\n",
    "Suy ra: $\\pi_0^\\top=(\\underset{54\\text{ lần}}{\\underbrace{0,0,...,0}},1,\\underset{45\\text{ lần}}{\\underbrace{0,0,...,0}})$"
   ]
  },
  {
   "cell_type": "code",
   "execution_count": null,
   "metadata": {},
   "outputs": [
    {
     "data": {
      "text/plain": [
       "array([0., 0., 0., 0., 0., 0., 0., 0., 0., 0., 0., 0., 0., 0., 0., 0., 0.,\n",
       "       0., 0., 0., 0., 0., 0., 0., 0., 0., 0., 0., 0., 0., 0., 0., 0., 0.,\n",
       "       0., 0., 0., 0., 0., 0., 0., 0., 0., 0., 0., 0., 0., 0., 0., 0., 0.,\n",
       "       0., 0., 0., 1., 0., 0., 0., 0., 0., 0., 0., 0., 0., 0., 0., 0., 0.,\n",
       "       0., 0., 0., 0., 0., 0., 0., 0., 0., 0., 0., 0., 0., 0., 0., 0., 0.,\n",
       "       0., 0., 0., 0., 0., 0., 0., 0., 0., 0., 0., 0., 0., 0., 0.])"
      ]
     },
     "execution_count": 16,
     "metadata": {},
     "output_type": "execute_result"
    }
   ],
   "source": [
    "pi_ = np.zeros(q)\n",
    "pi_[k-1] = 1\n",
    "pi_"
   ]
  },
  {
   "cell_type": "markdown",
   "metadata": {},
   "source": [
    "Ma trận chuyển $P$:"
   ]
  },
  {
   "cell_type": "code",
   "execution_count": null,
   "metadata": {},
   "outputs": [
    {
     "data": {
      "text/plain": [
       "matrix([[1. , 0. , 0. , ..., 0. , 0. , 0. ],\n",
       "        [0.5, 0. , 0.5, ..., 0. , 0. , 0. ],\n",
       "        [0. , 0.5, 0. , ..., 0. , 0. , 0. ],\n",
       "        ...,\n",
       "        [0. , 0. , 0. , ..., 0. , 0.5, 0. ],\n",
       "        [0. , 0. , 0. , ..., 0.5, 0. , 0.5],\n",
       "        [0. , 0. , 0. , ..., 0. , 0. , 1. ]])"
      ]
     },
     "execution_count": 17,
     "metadata": {},
     "output_type": "execute_result"
    }
   ],
   "source": [
    "mtr_P = npm.zeros((q, q))\n",
    "for i in range(q):\n",
    "    if (i == 0) | (i == q-1):\n",
    "        mtr_P[i,i] = 1\n",
    "    else:\n",
    "        mtr_P[i, i-1] = 1-p\n",
    "        mtr_P[i, i+1] = p\n",
    "mtr_P"
   ]
  },
  {
   "cell_type": "markdown",
   "metadata": {},
   "source": [
    "Khi $n$ đủ lớn, ta thấy $P(X_n=s_0)$ xấp xỉ"
   ]
  },
  {
   "cell_type": "code",
   "execution_count": null,
   "metadata": {},
   "outputs": [
    {
     "data": {
      "text/plain": [
       "0.45454545454545325"
      ]
     },
     "execution_count": 18,
     "metadata": {},
     "output_type": "execute_result"
    }
   ],
   "source": [
    "for _ in range(100):\n",
    "    mtr_P = np.dot(mtr_P, mtr_P)\n",
    "np.diag(np.dot(pi_,mtr_P))[0]"
   ]
  },
  {
   "cell_type": "markdown",
   "metadata": {},
   "source": [
    "**_Mô phỏng_**"
   ]
  },
  {
   "cell_type": "code",
   "execution_count": null,
   "metadata": {},
   "outputs": [
    {
     "data": {
      "text/plain": [
       "0.452"
      ]
     },
     "execution_count": 32,
     "metadata": {},
     "output_type": "execute_result"
    }
   ],
   "source": [
    "simulate(k, q, p)"
   ]
  },
  {
   "cell_type": "markdown",
   "metadata": {},
   "source": [
    "## $p=\\frac{2}{5}$, $k=75$, $q=100$."
   ]
  },
  {
   "cell_type": "code",
   "execution_count": null,
   "metadata": {},
   "outputs": [],
   "source": [
    "p = 0.4\n",
    "k = 75\n",
    "q = 100"
   ]
  },
  {
   "cell_type": "markdown",
   "metadata": {},
   "source": [
    "**_Lý thuyết_**\n",
    "\n",
    "Ta có: $k=75$, $q=100$, $\\displaystyle p\\left(\\text{thắng}\\right)=\\frac{2}{5} \\Rightarrow p\\left(\\text{thua}\\right)=\\frac{3}{5}$.</br>\n",
    "Suy ra: $\\pi_0^\\top=(\\underset{74\\text{ lần}}{\\underbrace{0,0,...,0}},1,\\underset{25\\text{ lần}}{\\underbrace{0,0,...,0}})$"
   ]
  },
  {
   "cell_type": "code",
   "execution_count": null,
   "metadata": {},
   "outputs": [
    {
     "data": {
      "text/plain": [
       "array([0., 0., 0., 0., 0., 0., 0., 0., 0., 0., 0., 0., 0., 0., 0., 0., 0.,\n",
       "       0., 0., 0., 0., 0., 0., 0., 0., 0., 0., 0., 0., 0., 0., 0., 0., 0.,\n",
       "       0., 0., 0., 0., 0., 0., 0., 0., 0., 0., 0., 0., 0., 0., 0., 0., 0.,\n",
       "       0., 0., 0., 0., 0., 0., 0., 0., 0., 0., 0., 0., 0., 0., 0., 0., 0.,\n",
       "       0., 0., 0., 0., 0., 0., 1., 0., 0., 0., 0., 0., 0., 0., 0., 0., 0.,\n",
       "       0., 0., 0., 0., 0., 0., 0., 0., 0., 0., 0., 0., 0., 0., 0.])"
      ]
     },
     "execution_count": 20,
     "metadata": {},
     "output_type": "execute_result"
    }
   ],
   "source": [
    "pi_ = np.zeros(q)\n",
    "pi_[k-1] = 1\n",
    "pi_"
   ]
  },
  {
   "cell_type": "markdown",
   "metadata": {},
   "source": [
    "Ma trận chuyển $P$:"
   ]
  },
  {
   "cell_type": "code",
   "execution_count": null,
   "metadata": {},
   "outputs": [
    {
     "data": {
      "text/plain": [
       "matrix([[1. , 0. , 0. , ..., 0. , 0. , 0. ],\n",
       "        [0.6, 0. , 0.4, ..., 0. , 0. , 0. ],\n",
       "        [0. , 0.6, 0. , ..., 0. , 0. , 0. ],\n",
       "        ...,\n",
       "        [0. , 0. , 0. , ..., 0. , 0.4, 0. ],\n",
       "        [0. , 0. , 0. , ..., 0.6, 0. , 0.4],\n",
       "        [0. , 0. , 0. , ..., 0. , 0. , 1. ]])"
      ]
     },
     "execution_count": 21,
     "metadata": {},
     "output_type": "execute_result"
    }
   ],
   "source": [
    "mtr_P = npm.zeros((q, q))\n",
    "for i in range(q):\n",
    "    if (i == 0) | (i == q-1):\n",
    "        mtr_P[i,i] = 1\n",
    "    else:\n",
    "        mtr_P[i, i-1] = 1-p\n",
    "        mtr_P[i, i+1] = p\n",
    "mtr_P"
   ]
  },
  {
   "cell_type": "markdown",
   "metadata": {},
   "source": [
    "Khi $n$ đủ lớn, ta thấy $P(X_n=s_0)$ xấp xỉ"
   ]
  },
  {
   "cell_type": "code",
   "execution_count": null,
   "metadata": {},
   "outputs": [
    {
     "data": {
      "text/plain": [
       "0.9999603978719531"
      ]
     },
     "execution_count": 22,
     "metadata": {},
     "output_type": "execute_result"
    }
   ],
   "source": [
    "for _ in range(100):\n",
    "    mtr_P = np.dot(mtr_P, mtr_P)\n",
    "np.diag(np.dot(pi_,mtr_P))[0]"
   ]
  },
  {
   "cell_type": "markdown",
   "metadata": {},
   "source": [
    "**_Mô phỏng_**"
   ]
  },
  {
   "cell_type": "code",
   "execution_count": null,
   "metadata": {},
   "outputs": [
    {
     "data": {
      "text/plain": [
       "0.9999666666666667"
      ]
     },
     "execution_count": 34,
     "metadata": {},
     "output_type": "execute_result"
    }
   ],
   "source": [
    "simulate(k, q, p)"
   ]
  },
  {
   "cell_type": "markdown",
   "metadata": {},
   "source": [
    "## $p=\\frac{2}{5}$, $k=95$, $q=100$."
   ]
  },
  {
   "cell_type": "code",
   "execution_count": null,
   "metadata": {},
   "outputs": [],
   "source": [
    "p = 0.4\n",
    "k = 95\n",
    "q = 100"
   ]
  },
  {
   "cell_type": "markdown",
   "metadata": {},
   "source": [
    "**_Lý thuyết_**\n",
    "\n",
    "Ta có: $k=95$, $q=100$, $\\displaystyle p\\left(\\text{thắng}\\right)=\\frac{2}{5} \\Rightarrow p\\left(\\text{thua}\\right)=\\frac{3}{5}$.</br>\n",
    "Suy ra: $\\pi_0^\\top=(\\underset{94\\text{ lần}}{\\underbrace{0,0,...,0}},1,\\underset{5\\text{ lần}}{\\underbrace{0,0,...,0}})$"
   ]
  },
  {
   "cell_type": "code",
   "execution_count": null,
   "metadata": {},
   "outputs": [
    {
     "data": {
      "text/plain": [
       "array([0., 0., 0., 0., 0., 0., 0., 0., 0., 0., 0., 0., 0., 0., 0., 0., 0.,\n",
       "       0., 0., 0., 0., 0., 0., 0., 0., 0., 0., 0., 0., 0., 0., 0., 0., 0.,\n",
       "       0., 0., 0., 0., 0., 0., 0., 0., 0., 0., 0., 0., 0., 0., 0., 0., 0.,\n",
       "       0., 0., 0., 0., 0., 0., 0., 0., 0., 0., 0., 0., 0., 0., 0., 0., 0.,\n",
       "       0., 0., 0., 0., 0., 0., 0., 0., 0., 0., 0., 0., 0., 0., 0., 0., 0.,\n",
       "       0., 0., 0., 0., 0., 0., 0., 0., 0., 1., 0., 0., 0., 0., 0.])"
      ]
     },
     "execution_count": 24,
     "metadata": {},
     "output_type": "execute_result"
    }
   ],
   "source": [
    "pi_ = np.zeros(q)\n",
    "pi_[k-1] = 1\n",
    "pi_"
   ]
  },
  {
   "cell_type": "markdown",
   "metadata": {},
   "source": [
    "Ma trận chuyển $P$:"
   ]
  },
  {
   "cell_type": "code",
   "execution_count": null,
   "metadata": {},
   "outputs": [
    {
     "data": {
      "text/plain": [
       "matrix([[1. , 0. , 0. , ..., 0. , 0. , 0. ],\n",
       "        [0.6, 0. , 0.4, ..., 0. , 0. , 0. ],\n",
       "        [0. , 0.6, 0. , ..., 0. , 0. , 0. ],\n",
       "        ...,\n",
       "        [0. , 0. , 0. , ..., 0. , 0.4, 0. ],\n",
       "        [0. , 0. , 0. , ..., 0.6, 0. , 0.4],\n",
       "        [0. , 0. , 0. , ..., 0. , 0. , 1. ]])"
      ]
     },
     "execution_count": 25,
     "metadata": {},
     "output_type": "execute_result"
    }
   ],
   "source": [
    "mtr_P = npm.zeros((q, q))\n",
    "for i in range(q):\n",
    "    if (i == 0) | (i == q-1):\n",
    "        mtr_P[i,i] = 1\n",
    "    else:\n",
    "        mtr_P[i, i-1] = 1-p\n",
    "        mtr_P[i, i+1] = p\n",
    "mtr_P"
   ]
  },
  {
   "cell_type": "markdown",
   "metadata": {},
   "source": [
    "Khi $n$ đủ lớn, ta thấy $P(X_n=s_0)$ xấp xỉ"
   ]
  },
  {
   "cell_type": "code",
   "execution_count": null,
   "metadata": {},
   "outputs": [
    {
     "data": {
      "text/plain": [
       "0.8683127572016407"
      ]
     },
     "execution_count": 26,
     "metadata": {},
     "output_type": "execute_result"
    }
   ],
   "source": [
    "for _ in range(100):\n",
    "    mtr_P = np.dot(mtr_P, mtr_P)\n",
    "np.diag(np.dot(pi_,mtr_P))[0]"
   ]
  },
  {
   "cell_type": "markdown",
   "metadata": {},
   "source": [
    "**_Mô phỏng_**"
   ]
  },
  {
   "cell_type": "code",
   "execution_count": null,
   "metadata": {},
   "outputs": [
    {
     "data": {
      "text/plain": [
       "0.8666"
      ]
     },
     "execution_count": 36,
     "metadata": {},
     "output_type": "execute_result"
    }
   ],
   "source": [
    "simulate(k, q, p)"
   ]
  }
 ],
 "metadata": {
  "kernelspec": {
   "display_name": "min_ds-env",
   "language": "python",
   "name": "python3"
  },
  "language_info": {
   "codemirror_mode": {
    "name": "ipython",
    "version": 3
   },
   "file_extension": ".py",
   "mimetype": "text/x-python",
   "name": "python",
   "nbconvert_exporter": "python",
   "pygments_lexer": "ipython3",
   "version": "3.10.8"
  }
 },
 "nbformat": 4,
 "nbformat_minor": 2
}
