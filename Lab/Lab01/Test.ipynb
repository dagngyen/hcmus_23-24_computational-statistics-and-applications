{
 "cells": [
  {
   "cell_type": "code",
   "execution_count": 1,
   "metadata": {},
   "outputs": [],
   "source": [
    "import numpy as np\n",
    "import pandas as pd\n",
    "import math\n",
    "import random as rd\n",
    "import collections as clt\n",
    "import statistics as sts\n",
    "\n",
    "import matplotlib.pyplot as plt\n",
    "import seaborn as sns"
   ]
  },
  {
   "cell_type": "code",
   "execution_count": 6,
   "metadata": {},
   "outputs": [],
   "source": [
    "# Quái vật\n",
    "monster = 1.0\n",
    "\n",
    "# Xác suất bắn trúng\n",
    "p_hit = 0.25\n",
    "\n",
    "# Mức máu hao hụt khi trúng đạn\n",
    "reducetion = -0.2\n",
    "\n",
    "# Số lần mô phỏng\n",
    "N = 100_000_000"
   ]
  },
  {
   "cell_type": "code",
   "execution_count": 121,
   "metadata": {},
   "outputs": [
    {
     "name": "stdout",
     "output_type": "stream",
     "text": [
      "0.24997785\n"
     ]
    }
   ],
   "source": [
    "# Đếm số lần bắn cho đến khi quái vật chết\n",
    "def count_number_shots(monster:float=monster, weight:float=p_hit, amount_reduce:float=reducetion):\n",
    "    count = 0\n",
    "    while (monster > 0.0):\n",
    "        if rd.choices(['Trúng', 'Trượt'], [weight, 1-weight])[0] == 'Trúng':\n",
    "            monster += amount_reduce\n",
    "        count += 1\n",
    "    return count\n",
    "\n",
    "# Tính xác suất bắn quái vật chết không quá 20 lần bắn\n",
    "def compute_frequency(num_simulation:np.uint64=N):\n",
    "    count = 0\n",
    "    for _ in range(num_simulation):\n",
    "        if count_number_shots() < 21:\n",
    "            count += 1\n",
    "    return float(\"{:.3f}\".format(count/num_simulation))\n",
    "\n",
    "print(np.mean(np.random.choice(2, size=N, p=[1-.25, .25])))"
   ]
  },
  {
   "cell_type": "code",
   "execution_count": 171,
   "metadata": {},
   "outputs": [
    {
     "data": {
      "text/plain": [
       "array([ True])"
      ]
     },
     "execution_count": 171,
     "metadata": {},
     "output_type": "execute_result"
    }
   ],
   "source": [
    "hits = np.random.choice(2, size=1, p=[.75, .25]) == 1\n",
    "hits"
   ]
  },
  {
   "cell_type": "code",
   "execution_count": 34,
   "metadata": {},
   "outputs": [
    {
     "data": {
      "text/plain": [
       "array(['a', 'd', 'b'], dtype='<U1')"
      ]
     },
     "execution_count": 34,
     "metadata": {},
     "output_type": "execute_result"
    }
   ],
   "source": [
    "np.random.choice(['a', 'b', 'c', 'd'], 3)"
   ]
  },
  {
   "cell_type": "code",
   "execution_count": 39,
   "metadata": {},
   "outputs": [
    {
     "data": {
      "text/plain": [
       "1"
      ]
     },
     "execution_count": 39,
     "metadata": {},
     "output_type": "execute_result"
    }
   ],
   "source": [
    "temp = [1, 2, 1, 1, 2, 2, 1, 3, 3, 3, 3]\n",
    "sts.mode(temp)"
   ]
  },
  {
   "cell_type": "code",
   "execution_count": 220,
   "metadata": {},
   "outputs": [],
   "source": [
    "# Số tiền đặt cược\n",
    "bet_amount = 1\n",
    "\n",
    "# Số lần mô phỏng\n",
    "N = 200_000\n",
    "\n",
    "# Mô phỏng trò chơi\n",
    "def is_win(capital:int, target:np.uint64, prob:float, amount:np.uint64=bet_amount) -> bool:\n",
    "    while 0 < capital and capital < target:\n",
    "        if np.random.choice(['Thắng', 'Thua'], 1, p=[prob, 1-prob])[0] == 'Thắng':\n",
    "            capital += amount\n",
    "        else:\n",
    "            capital -= amount\n",
    "    print(capital)\n",
    "    return True if capital == target else False"
   ]
  },
  {
   "cell_type": "code",
   "execution_count": 243,
   "metadata": {},
   "outputs": [
    {
     "name": "stdout",
     "output_type": "stream",
     "text": [
      "0\n"
     ]
    },
    {
     "data": {
      "text/plain": [
       "False"
      ]
     },
     "execution_count": 243,
     "metadata": {},
     "output_type": "execute_result"
    }
   ],
   "source": [
    "is_win(90, 100, 0.5)"
   ]
  },
  {
   "cell_type": "code",
   "execution_count": 133,
   "metadata": {},
   "outputs": [
    {
     "data": {
      "text/plain": [
       "array(['Thua', 'Thua'], dtype='<U5')"
      ]
     },
     "execution_count": 133,
     "metadata": {},
     "output_type": "execute_result"
    }
   ],
   "source": [
    "np.random.choice(['Thắng', 'Thua'], 2, True, [0.5, 0.5])"
   ]
  },
  {
   "cell_type": "markdown",
   "metadata": {},
   "source": [
    "$\\binom{x}{4}$"
   ]
  },
  {
   "cell_type": "code",
   "execution_count": 13,
   "metadata": {},
   "outputs": [
    {
     "name": "stdout",
     "output_type": "stream",
     "text": [
      "(array([[-0.12309149,  0.90453403,  0.40824829],\n",
      "       [-0.49236596,  0.30151134, -0.81649658],\n",
      "       [-0.86164044, -0.30151134,  0.40824829]]), array([[-8.12403840e+00, -9.60113630e+00, -1.10782342e+01],\n",
      "       [ 0.00000000e+00,  9.04534034e-01,  1.80906807e+00],\n",
      "       [ 0.00000000e+00,  0.00000000e+00, -7.58790979e-16]])) \n",
      " [[1 2 3]\n",
      " [4 5 6]\n",
      " [7 8 9]]\n"
     ]
    }
   ],
   "source": [
    "test_ = np.arange(1,10,1).reshape((3,3))\n",
    "print(np.linalg.qr(test_), '\\n', test_)"
   ]
  }
 ],
 "metadata": {
  "kernelspec": {
   "display_name": "min_ds-env",
   "language": "python",
   "name": "python3"
  },
  "language_info": {
   "codemirror_mode": {
    "name": "ipython",
    "version": 3
   },
   "file_extension": ".py",
   "mimetype": "text/x-python",
   "name": "python",
   "nbconvert_exporter": "python",
   "pygments_lexer": "ipython3",
   "version": "3.10.8"
  }
 },
 "nbformat": 4,
 "nbformat_minor": 2
}
